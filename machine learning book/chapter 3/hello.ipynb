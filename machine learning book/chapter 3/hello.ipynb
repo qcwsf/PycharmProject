{
 "cells": [
  {
   "cell_type": "code",
   "execution_count": 35,
   "metadata": {
    "collapsed": true
   },
   "outputs": [
    {
     "name": "stdout",
     "output_type": "stream",
     "text": [
      "[[ 1.]]\n1\n0\n[[ 20.08553692]]\n"
     ]
    }
   ],
   "source": [
    "import numpy as np\n",
    "a=np.mat(())\n",
    "m,n=np.shape(a)\n",
    "h=np.ones((10,1))\n",
    "h=np.mat(h)\n",
    "h[1]=3\n",
    "print h[2]\n",
    "print m\n",
    "print n\n",
    "print np.exp(h[1])"
   ]
  },
  {
   "cell_type": "code",
   "execution_count": null,
   "metadata": {},
   "outputs": [],
   "source": [
    ""
   ]
  }
 ],
 "metadata": {
  "kernelspec": {
   "display_name": "Python 2",
   "language": "python",
   "name": "python2"
  },
  "language_info": {
   "codemirror_mode": {
    "name": "ipython",
    "version": 2.0
   },
   "file_extension": ".py",
   "mimetype": "text/x-python",
   "name": "python",
   "nbconvert_exporter": "python",
   "pygments_lexer": "ipython2",
   "version": "2.7.6"
  }
 },
 "nbformat": 4,
 "nbformat_minor": 0
}